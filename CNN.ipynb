{
  "cells": [
    {
      "cell_type": "code",
      "execution_count": null,
      "metadata": {
        "id": "bfDORHio6cYO"
      },
      "outputs": [],
      "source": [
        "import numpy as np\n",
        "import pandas as pd\n",
        "import matplotlib.pyplot as plt\n",
        "\n",
        "from google.colab.patches import cv2_imshow\n",
        "import cv2\n",
        "\n",
        "import os\n",
        "from pathlib import Path\n",
        "import tensorflow as tf"
      ]
    },
    {
      "cell_type": "markdown",
      "metadata": {
        "id": "5CjUOJFI1-51"
      },
      "source": [
        "Dict num_to_char and char_to_num"
      ]
    },
    {
      "cell_type": "code",
      "execution_count": null,
      "metadata": {
        "id": "xGdwXlDyx-Jo"
      },
      "outputs": [],
      "source": [
        "s = \"123456789\"\n",
        "s += \"abcdefghijklmnopqrstuvwxyz\".upper()\n",
        "s += \"abdeghijlmnqrtf\"\n",
        "s_remove = \"0cfkopsuvwxyz\"\n",
        "s_full = \"0123456789\"\n",
        "s_full += \"abcdefghijklmnopqrstuvwxyz\".upper()\n",
        "s_full += \"abcdefghijklmnopqrstuvwxyz\""
      ]
    },
    {
      "cell_type": "code",
      "execution_count": null,
      "metadata": {
        "id": "uWDoCYy_zt8h",
        "colab": {
          "base_uri": "https://localhost:8080/"
        },
        "outputId": "b770529f-58d3-44a2-ee81-846fdc962e1a"
      },
      "outputs": [
        {
          "output_type": "stream",
          "name": "stdout",
          "text": [
            "{'1': 0, '2': 1, '3': 2, '4': 3, '5': 4, '6': 5, '7': 6, '8': 7, '9': 8, 'A': 9, 'B': 10, 'C': 11, 'D': 12, 'E': 13, 'F': 14, 'G': 15, 'H': 16, 'I': 17, 'J': 18, 'K': 19, 'L': 20, 'M': 21, 'N': 22, 'O': 23, 'P': 24, 'Q': 25, 'R': 26, 'S': 27, 'T': 28, 'U': 29, 'V': 30, 'W': 31, 'X': 32, 'Y': 33, 'Z': 34, 'a': 35, 'b': 36, 'd': 37, 'e': 38, 'g': 39, 'h': 40, 'i': 41, 'j': 42, 'l': 43, 'm': 44, 'n': 45, 'q': 46, 'r': 47, 't': 48, 'f': 49}\n",
            "{'1': 0, '2': 1, '3': 2, '4': 3, '5': 4, '6': 5, '7': 6, '8': 7, '9': 8, 'A': 9, 'B': 10, 'C': 11, 'D': 12, 'E': 13, 'F': 14, 'G': 15, 'H': 16, 'I': 17, 'J': 18, 'K': 19, 'L': 20, 'M': 21, 'N': 22, 'O': 23, 'P': 24, 'Q': 25, 'R': 26, 'S': 27, 'T': 28, 'U': 29, 'V': 30, 'W': 31, 'X': 32, 'Y': 33, 'Z': 34, 'a': 35, 'b': 36, 'd': 37, 'e': 38, 'g': 39, 'h': 40, 'i': 41, 'j': 42, 'l': 43, 'm': 44, 'n': 45, 'q': 46, 'r': 47, 't': 48, 'f': 14, '0': 23, 'c': 11, 'k': 19, 'o': 23, 'p': 24, 's': 27, 'u': 29, 'v': 30, 'w': 31, 'x': 32, 'y': 33, 'z': 34}\n"
          ]
        }
      ],
      "source": [
        "l_char = [char for char in s]\n",
        "l_num = list(range(len(s)))\n",
        "d_char_to_num = {l_char[i]: l_num[i] for i in range(len(l_char))}\n",
        "print(d_char_to_num)\n",
        "d_charRemove_to_num = {}\n",
        "d_char_to_num['0'] = d_char_to_num['O']\n",
        "d_char_to_num['c'] = d_char_to_num['C']\n",
        "d_char_to_num['f'] = d_char_to_num['F']\n",
        "d_char_to_num['k'] = d_char_to_num['K']\n",
        "d_char_to_num['o'] = d_char_to_num['O']\n",
        "d_char_to_num['p'] = d_char_to_num['P']\n",
        "d_char_to_num['s'] = d_char_to_num['S']\n",
        "d_char_to_num['u'] = d_char_to_num['U']\n",
        "d_char_to_num['v'] = d_char_to_num['V']\n",
        "d_char_to_num['w'] = d_char_to_num['W']\n",
        "d_char_to_num['x'] = d_char_to_num['X']\n",
        "d_char_to_num['y'] = d_char_to_num['Y']\n",
        "d_char_to_num['z'] = d_char_to_num['Z']\n",
        "\n",
        "print(d_char_to_num)"
      ]
    },
    {
      "cell_type": "code",
      "execution_count": null,
      "metadata": {
        "id": "-1dxfDJwOH-t",
        "colab": {
          "base_uri": "https://localhost:8080/"
        },
        "outputId": "5d70df03-29e4-4bf7-a2b2-71a603f2895a"
      },
      "outputs": [
        {
          "output_type": "stream",
          "name": "stdout",
          "text": [
            "{0: '0', 1: '1', 2: '2', 3: '3', 4: '4', 5: '5', 6: '6', 7: '7', 8: '8', 9: '9', 10: 'A', 11: 'B', 12: 'C', 13: 'D', 14: 'E', 15: 'F', 16: 'G', 17: 'H', 18: 'I', 19: 'J', 20: 'K', 21: 'L', 22: 'M', 23: 'N', 24: 'O', 25: 'P', 26: 'Q', 27: 'R', 28: 'S', 29: 'T', 30: 'U', 31: 'V', 32: 'W', 33: 'X', 34: 'Y', 35: 'Z', 36: 'a', 37: 'b', 38: 'c', 39: 'd', 40: 'e', 41: 'f', 42: 'g', 43: 'h', 44: 'i', 45: 'j', 46: 'k', 47: 'l', 48: 'm', 49: 'n', 50: 'o', 51: 'p', 52: 'q', 53: 'r', 54: 's', 55: 't', 56: 'u', 57: 'v', 58: 'w', 59: 'x', 60: 'y', 61: 'z'}\n"
          ]
        }
      ],
      "source": [
        "l_charFull = [char for char in s_full]\n",
        "l_numFull = list(range(len(s_full)))\n",
        "\n",
        "d_num_to_char = {l_numFull[i]: l_charFull[i] for i in range(len(l_charFull))}\n",
        "print(d_num_to_char)"
      ]
    },
    {
      "cell_type": "code",
      "execution_count": null,
      "metadata": {
        "id": "WlsbQYH4si3I"
      },
      "outputs": [],
      "source": [
        "def char_to_num(c):\n",
        "  if c in list(d_char_to_num.keys()):\n",
        "    return d_char_to_num[c]\n",
        "  else:\n",
        "    return d_charRemove_to_num[c]"
      ]
    },
    {
      "cell_type": "code",
      "execution_count": null,
      "metadata": {
        "id": "8XMKXQdoNzt9"
      },
      "outputs": [],
      "source": [
        "def num_to_char(num):\n",
        "  return [i for i in d_char_to_num if d_char_to_num[i]==num][0]"
      ]
    },
    {
      "cell_type": "markdown",
      "metadata": {
        "id": "qdDISii66QsQ"
      },
      "source": [
        "# Character Dataset"
      ]
    },
    {
      "cell_type": "markdown",
      "metadata": {
        "id": "fmmpAAhLkXXh"
      },
      "source": [
        "Get DataSet\n",
        "\n",
        "*https://www.kaggle.com/code/danishashah/handwritten-character-recognition*"
      ]
    },
    {
      "cell_type": "code",
      "execution_count": null,
      "metadata": {
        "colab": {
          "base_uri": "https://localhost:8080/"
        },
        "id": "DfxGal6okQOP",
        "outputId": "9b650fbc-f4d3-422b-8043-80a5c686cfd5"
      },
      "outputs": [
        {
          "output_type": "stream",
          "name": "stdout",
          "text": [
            "replace char_dataset/Sample001/img001-002_padded.png? [y]es, [n]o, [A]ll, [N]one, [r]ename: "
          ]
        }
      ],
      "source": [
        "!unzip -qq char_dataset.zip"
      ]
    },
    {
      "cell_type": "markdown",
      "metadata": {
        "id": "ZGdJF634pmbm"
      },
      "source": [
        "List label of image"
      ]
    },
    {
      "cell_type": "code",
      "execution_count": null,
      "metadata": {
        "id": "mRgYAZYWlLLP"
      },
      "outputs": [],
      "source": [
        "img_paths = []\n",
        "labels = []\n",
        "for i in range(1,63):\n",
        "  # Path to the data directory\n",
        "  data_dir = Path(\"/content/char_dataset/Sample\" + str(i).zfill(3) +\"/\")\n",
        "  # List path of image\n",
        "  new_paths = list(map(str, list(data_dir.glob(\"*.png\"))))\n",
        "  img_paths += new_paths\n",
        "\n",
        "  label = d_num_to_char[i-1]\n",
        "  labels += [char_to_num(label)] * len(new_paths)"
      ]
    },
    {
      "cell_type": "code",
      "execution_count": null,
      "metadata": {
        "id": "mYrdbr1-2GQ1"
      },
      "outputs": [],
      "source": [
        "labels_oh = tf.one_hot(np.array(labels), 50).numpy()"
      ]
    },
    {
      "cell_type": "code",
      "execution_count": null,
      "metadata": {
        "colab": {
          "base_uri": "https://localhost:8080/"
        },
        "id": "i3oHvwnF2XY9",
        "outputId": "ce635146-f6c1-4a45-d9d5-19bfe9a3f4f5"
      },
      "outputs": [
        {
          "output_type": "stream",
          "name": "stdout",
          "text": [
            "(10228, 50)\n",
            "[1. 0. 0. 0. 0. 0. 0. 0. 0. 0. 0. 0. 0. 0. 0. 0. 0. 0. 0. 0. 0. 0. 0. 0.\n",
            " 0. 0. 0. 0. 0. 0. 0. 0. 0. 0. 0. 0. 0. 0. 0. 0. 0. 0. 0. 0. 0. 0. 0. 0.\n",
            " 0. 0.]\n"
          ]
        }
      ],
      "source": [
        "print(labels_oh.shape)\n",
        "print(labels_oh[180])"
      ]
    },
    {
      "cell_type": "markdown",
      "metadata": {
        "id": "YILshv1ysnYF"
      },
      "source": [
        "List img"
      ]
    },
    {
      "cell_type": "code",
      "execution_count": null,
      "metadata": {
        "id": "rKP-lD8GpxIO"
      },
      "outputs": [],
      "source": [
        "imgs = [cv2.imread(path) for path in img_paths]\n",
        "#imgs_resized = np.array([cv2.resize(img, (32, 32), interpolation = cv2.INTER_AREA) for img in imgs])"
      ]
    },
    {
      "cell_type": "code",
      "execution_count": null,
      "metadata": {
        "id": "SNyzkDyLwXbl",
        "colab": {
          "base_uri": "https://localhost:8080/"
        },
        "outputId": "7aefaa7b-6f5d-46d2-f99c-106b63f72552"
      },
      "outputs": [
        {
          "output_type": "execute_result",
          "data": {
            "text/plain": [
              "(50, 200, 3)"
            ]
          },
          "metadata": {},
          "execution_count": 52
        }
      ],
      "source": [
        "imgs[0].shape"
      ]
    },
    {
      "cell_type": "code",
      "execution_count": null,
      "metadata": {
        "id": "gobQ6s8Sf1C2",
        "colab": {
          "base_uri": "https://localhost:8080/",
          "height": 67
        },
        "outputId": "487399bf-bf22-41c9-b68f-0cd4d14611b9"
      },
      "outputs": [
        {
          "output_type": "display_data",
          "data": {
            "text/plain": [
              "<PIL.Image.Image image mode=RGB size=200x50 at 0x7F90ECF37BE0>"
            ],
            "image/png": "[encoded data removed]"
          },
          "metadata": {}
        }
      ],
      "source": [
        "cv2_imshow(imgs[0])"
      ]
    },
    {
      "cell_type": "code",
      "execution_count": null,
      "metadata": {
        "id": "-8MN4StAz22M",
        "colab": {
          "base_uri": "https://localhost:8080/",
          "height": 402
        },
        "outputId": "c22650a8-98db-41da-82f2-342e8fdb0f71"
      },
      "outputs": [
        {
          "output_type": "display_data",
          "data": {
            "text/plain": [
              "<Figure size 1000x500 with 16 Axes>"
            ],
            "image/png": "[encoded data removed]"
          },
          "metadata": {}
        }
      ],
      "source": [
        "# Visualize data\n",
        "_, ax = plt.subplots(4, 4, figsize=(10, 5))\n",
        "for i in range(16):\n",
        "    img = imgs[i]\n",
        "    label = labels[i]\n",
        "    ax[i // 4, i % 4].imshow(img[:, :, 0], cmap=\"gray\")\n",
        "    ax[i // 4, i % 4].set_title(label)\n",
        "    ax[i // 4, i % 4].axis(\"off\")\n",
        "plt.show()"
      ]
    },
    {
      "cell_type": "markdown",
      "metadata": {
        "id": "__c7wdldta0F"
      },
      "source": [
        "Train/Val Dataset"
      ]
    },
    {
      "cell_type": "code",
      "execution_count": null,
      "metadata": {
        "id": "egnqulLbtZS2"
      },
      "outputs": [],
      "source": [
        "from sklearn.model_selection import train_test_split\n",
        "X_train, X_valid, y_train, y_valid = train_test_split(np.array(imgs), np.array(labels_oh),\n",
        "                                                      random_state=104,\n",
        "                                                      test_size=0.3,\n",
        "                                                      shuffle=True)"
      ]
    },
    {
      "cell_type": "markdown",
      "metadata": {
        "id": "J0C2IZ602XSy"
      },
      "source": [
        "# Captcha Dataset"
      ]
    },
    {
      "cell_type": "code",
      "execution_count": null,
      "metadata": {
        "id": "1ja6PRHAc-hs",
        "colab": {
          "base_uri": "https://localhost:8080/"
        },
        "outputId": "ddee6299-c110-46f3-f241-45b8fafc63c5"
      },
      "outputs": [
        {
          "output_type": "stream",
          "name": "stdout",
          "text": [
            "replace captcha_dataset/0054y.png? [y]es, [n]o, [A]ll, [N]one, [r]ename: "
          ]
        }
      ],
      "source": [
        "!unzip -qq captcha_dataset.zip"
      ]
    },
    {
      "cell_type": "markdown",
      "metadata": {
        "id": "ljlkAZxoc-ht"
      },
      "source": [
        "List captcha label"
      ]
    },
    {
      "cell_type": "code",
      "execution_count": null,
      "metadata": {
        "id": "sQOnIOIfc-hw"
      },
      "outputs": [],
      "source": [
        "captcha_paths = []\n",
        "str_labels = []\n",
        "# Path to the data directory\n",
        "captcha_dir = Path(\"/content/captcha_dataset/\")\n",
        "# List path of image\n",
        "captcha_paths = list(map(str, list(captcha_dir.glob(\"*.png\"))))\n",
        "\n",
        "for path in captcha_paths:\n",
        "  str_labels.append([char_to_num(path.split('/')[-1].replace('.png', '')[i]) for i in range(5)])\n",
        "\n",
        "# Label num\n",
        "num_labels = np.array(str_labels)"
      ]
    },
    {
      "cell_type": "code",
      "execution_count": null,
      "metadata": {
        "id": "o9EnsietzhRE",
        "colab": {
          "base_uri": "https://localhost:8080/"
        },
        "outputId": "3e07c75c-41f0-4a7f-db7a-6f7b75456087"
      },
      "outputs": [
        {
          "output_type": "execute_result",
          "data": {
            "text/plain": [
              "(1339, 5, 50)"
            ]
          },
          "metadata": {},
          "execution_count": 64
        }
      ],
      "source": [
        "# Label oh_vecter\n",
        "oh_labels = np.array([tf.one_hot(np.array(num_labels[i]), 50).numpy() for i in range(len(num_labels))])\n",
        "oh_labels.shape"
      ]
    },
    {
      "cell_type": "markdown",
      "metadata": {
        "id": "4yqjZABXdzzT"
      },
      "source": [
        "List captcha image"
      ]
    },
    {
      "cell_type": "code",
      "execution_count": null,
      "metadata": {
        "id": "tj5ddgPkdHWq"
      },
      "outputs": [],
      "source": [
        "captchas = [cv2.imread(path) for path in captcha_paths]\n",
        "#captchas = [cv2.transpose(cv2.imread(path)) for path in captcha_paths]"
      ]
    },
    {
      "cell_type": "code",
      "execution_count": null,
      "metadata": {
        "id": "aOBAL3i0tMgb",
        "colab": {
          "base_uri": "https://localhost:8080/"
        },
        "outputId": "09e75a91-9963-4b2b-b771-b998b5a8e1c2"
      },
      "outputs": [
        {
          "output_type": "display_data",
          "data": {
            "text/plain": [
              "<PIL.Image.Image image mode=RGB size=200x50 at 0x7F90ED4CC910>"
            ],
            "image/png": "[encoded data removed]"
          },
          "metadata": {}
        },
        {
          "output_type": "stream",
          "name": "stdout",
          "text": [
            "String remove char:  ['Q', '7', 'L', '9', '8']\n",
            "Number:  [25  6 20  8  7]\n",
            "One hot:  [[0. 0. 0. 0. 0. 0. 0. 0. 0. 0. 0. 0. 0. 0. 0. 0. 0. 0. 0. 0. 0. 0. 0. 0.\n",
            "  0. 1. 0. 0. 0. 0. 0. 0. 0. 0. 0. 0. 0. 0. 0. 0. 0. 0. 0. 0. 0. 0. 0. 0.\n",
            "  0. 0.]\n",
            " [0. 0. 0. 0. 0. 0. 1. 0. 0. 0. 0. 0. 0. 0. 0. 0. 0. 0. 0. 0. 0. 0. 0. 0.\n",
            "  0. 0. 0. 0. 0. 0. 0. 0. 0. 0. 0. 0. 0. 0. 0. 0. 0. 0. 0. 0. 0. 0. 0. 0.\n",
            "  0. 0.]\n",
            " [0. 0. 0. 0. 0. 0. 0. 0. 0. 0. 0. 0. 0. 0. 0. 0. 0. 0. 0. 0. 1. 0. 0. 0.\n",
            "  0. 0. 0. 0. 0. 0. 0. 0. 0. 0. 0. 0. 0. 0. 0. 0. 0. 0. 0. 0. 0. 0. 0. 0.\n",
            "  0. 0.]\n",
            " [0. 0. 0. 0. 0. 0. 0. 0. 1. 0. 0. 0. 0. 0. 0. 0. 0. 0. 0. 0. 0. 0. 0. 0.\n",
            "  0. 0. 0. 0. 0. 0. 0. 0. 0. 0. 0. 0. 0. 0. 0. 0. 0. 0. 0. 0. 0. 0. 0. 0.\n",
            "  0. 0.]\n",
            " [0. 0. 0. 0. 0. 0. 0. 1. 0. 0. 0. 0. 0. 0. 0. 0. 0. 0. 0. 0. 0. 0. 0. 0.\n",
            "  0. 0. 0. 0. 0. 0. 0. 0. 0. 0. 0. 0. 0. 0. 0. 0. 0. 0. 0. 0. 0. 0. 0. 0.\n",
            "  0. 0.]]\n"
          ]
        }
      ],
      "source": [
        "cv2_imshow(captchas[0])\n",
        "print(\"String remove char: \", [num_to_char(num_labels[0][i]) for i in range(5)])\n",
        "print(\"Number: \", num_labels[0])\n",
        "print(\"One hot: \", oh_labels[0])"
      ]
    },
    {
      "cell_type": "code",
      "execution_count": null,
      "metadata": {
        "id": "_SFoVwXmzZDI"
      },
      "outputs": [],
      "source": [
        "from sklearn.model_selection import train_test_split\n",
        "X_train, X_valid, y_train, y_valid = train_test_split(np.array(captchas), oh_labels,\n",
        "                                                      random_state=104,\n",
        "                                                      test_size=0.3,\n",
        "                                                      shuffle=True)"
      ]
    },
    {
      "cell_type": "markdown",
      "metadata": {
        "id": "oV_T0BrxuGj9"
      },
      "source": [
        "#1.Character Classification Model\n",
        "\n"
      ]
    },
    {
      "cell_type": "code",
      "execution_count": null,
      "metadata": {
        "id": "xOlwZlA05Eai"
      },
      "outputs": [],
      "source": [
        "import tensorflow as tf\n",
        "from tensorflow.keras import layers\n",
        "from keras.layers import Input, Dense, Conv2D, MaxPooling2D, Flatten, AveragePooling1D\n",
        "from keras.models import load_model, Model\n",
        "from tensorflow.keras.models import Sequential\n",
        "import keras"
      ]
    },
    {
      "cell_type": "markdown",
      "metadata": {
        "id": "0FHhYicr61Os"
      },
      "source": [
        "## Create"
      ]
    },
    {
      "cell_type": "code",
      "execution_count": null,
      "metadata": {
        "id": "Hoazt4kD5CeT"
      },
      "outputs": [],
      "source": [
        "class CC_Model:\n",
        "    # constructor\n",
        "    def __init__(self):\n",
        "        self.model = None\n",
        "\n",
        "    # Định nghĩa kiến trúc của mô hình\n",
        "    def build(self, input_dim):\n",
        "        input = Input(shape = input_dim) # input\n",
        "\n",
        "        # First conv block\n",
        "        x = layers.Conv2D(64,(3, 3),activation=\"relu\",kernel_initializer=\"he_normal\",padding=\"same\",name=\"Conv1\")(input)\n",
        "        x = layers.MaxPooling2D((2, 2), name=\"pool1\")(x)\n",
        "\n",
        "        # Second conv block\n",
        "        x = layers.Conv2D(128,(3, 3),activation=\"relu\",kernel_initializer=\"he_normal\",padding=\"same\",name=\"Conv2\")(x)\n",
        "        x = layers.MaxPooling2D((5, 2), name=\"pool2\")(x)\n",
        "\n",
        "        x = layers.GlobalAveragePooling2D(name=\"GAP\")(x)\n",
        "\n",
        "        output = layers.Dense(50, activation=\"softmax\", name=\"dense3\")(x)\n",
        "\n",
        "        self.model = Model(input, output)\n",
        "\n",
        "    # Huấn luyện mô hình\n",
        "    def train(self, x_train, y_train): # x_train chinh la X, y_train chinh la ground-truth\n",
        "        opt = tf.keras.optimizers.SGD(learning_rate=0.001) # Stochastic Gradient Descent\n",
        "        self.model.compile(optimizer=opt, loss='categorical_crossentropy', metrics=['accuracy']) # CCE loss\n",
        "        self.model.fit(x_train, y_train, epochs = 100, batch_size = 64)\n",
        "\n",
        "    # Load mô hình từ file\n",
        "    def load(self, model_file):\n",
        "        self.model = load_model(model_file)\n",
        "\n",
        "    # Lưu mô hình hiện tại xuống file\n",
        "    def save(self, model_file):\n",
        "        self.model.save(model_file)\n",
        "\n",
        "    # Tóm tắt kiến trúc mạng\n",
        "    def summary(self):\n",
        "        self.model.summary()\n",
        "\n",
        "    # Thử nghiệm mô hình với dữ liệu ảnh đầu vào\n",
        "    def predict(self, x_test):\n",
        "        return self.model.predict(x_test)"
      ]
    },
    {
      "cell_type": "markdown",
      "metadata": {
        "id": "Dp1waF2p6zQa"
      },
      "source": [
        "## Train"
      ]
    },
    {
      "cell_type": "code",
      "execution_count": null,
      "metadata": {
        "id": "SWPixkwN59aH",
        "colab": {
          "base_uri": "https://localhost:8080/"
        },
        "outputId": "4fd5dfbc-9e21-4236-9823-61254fba80f8"
      },
      "outputs": [
        {
          "output_type": "stream",
          "name": "stdout",
          "text": [
            "Model: \"model_8\"\n",
            "_________________________________________________________________\n",
            " Layer (type)                Output Shape              Param #   \n",
            "=================================================================\n",
            " input_2 (InputLayer)        [(None, 50, 200, 3)]      0         \n",
            "                                                                 \n",
            " Conv1 (Conv2D)              (None, 50, 200, 64)       1792      \n",
            "                                                                 \n",
            " pool1 (MaxPooling2D)        (None, 25, 100, 64)       0         \n",
            "                                                                 \n",
            " Conv2 (Conv2D)              (None, 25, 100, 128)      73856     \n",
            "                                                                 \n",
            " pool2 (MaxPooling2D)        (None, 5, 50, 128)        0         \n",
            "                                                                 \n",
            " GAP (GlobalAveragePooling2D  (None, 128)              0         \n",
            " )                                                               \n",
            "                                                                 \n",
            " dense3 (Dense)              (None, 50)                6450      \n",
            "                                                                 \n",
            "=================================================================\n",
            "Total params: 82,098\n",
            "Trainable params: 82,098\n",
            "Non-trainable params: 0\n",
            "_________________________________________________________________\n"
          ]
        }
      ],
      "source": [
        "CC_model = CC_Model()\n",
        "CC_model.build(X_train[0].shape)\n",
        "CC_model.summary()"
      ]
    },
    {
      "cell_type": "code",
      "execution_count": null,
      "metadata": {
        "id": "iW7mIZXcXMNU",
        "colab": {
          "base_uri": "https://localhost:8080/"
        },
        "outputId": "848c178c-c200-4e1f-facc-c195ecd4f0c9"
      },
      "outputs": [
        {
          "output_type": "stream",
          "name": "stdout",
          "text": [
            "Epoch 1/100\n",
            "112/112 [==============================] - 4s 29ms/step - loss: 10.0497 - accuracy: 0.0725\n",
            "Epoch 2/100\n",
            "112/112 [==============================] - 3s 29ms/step - loss: 3.4612 - accuracy: 0.1291\n",
            "Epoch 3/100\n",
            "112/112 [==============================] - 3s 29ms/step - loss: 3.2521 - accuracy: 0.1722\n",
            "Epoch 4/100\n",
            "112/112 [==============================] - 3s 29ms/step - loss: 3.0984 - accuracy: 0.2018\n",
            "Epoch 5/100\n",
            "112/112 [==============================] - 3s 29ms/step - loss: 2.9729 - accuracy: 0.2343\n",
            "Epoch 6/100\n",
            "112/112 [==============================] - 3s 30ms/step - loss: 2.8708 - accuracy: 0.2549\n",
            "Epoch 7/100\n",
            "112/112 [==============================] - 3s 29ms/step - loss: 2.7706 - accuracy: 0.2784\n",
            "Epoch 8/100\n",
            "112/112 [==============================] - 3s 29ms/step - loss: 2.6731 - accuracy: 0.3037\n",
            "Epoch 9/100\n",
            "112/112 [==============================] - 3s 29ms/step - loss: 2.5851 - accuracy: 0.3257\n",
            "Epoch 10/100\n",
            "112/112 [==============================] - 3s 30ms/step - loss: 2.5310 - accuracy: 0.3375\n",
            "Epoch 11/100\n",
            "112/112 [==============================] - 3s 29ms/step - loss: 2.4540 - accuracy: 0.3593\n",
            "Epoch 12/100\n",
            "112/112 [==============================] - 3s 29ms/step - loss: 2.4003 - accuracy: 0.3683\n",
            "Epoch 13/100\n",
            "112/112 [==============================] - 3s 29ms/step - loss: 2.3315 - accuracy: 0.3839\n",
            "Epoch 14/100\n",
            "112/112 [==============================] - 3s 30ms/step - loss: 2.2909 - accuracy: 0.3873\n",
            "Epoch 15/100\n",
            "112/112 [==============================] - 3s 29ms/step - loss: 2.2391 - accuracy: 0.3989\n",
            "Epoch 16/100\n",
            "112/112 [==============================] - 3s 29ms/step - loss: 2.1834 - accuracy: 0.4139\n",
            "Epoch 17/100\n",
            "112/112 [==============================] - 3s 30ms/step - loss: 2.1365 - accuracy: 0.4337\n",
            "Epoch 18/100\n",
            "112/112 [==============================] - 3s 30ms/step - loss: 2.0998 - accuracy: 0.4313\n",
            "Epoch 19/100\n",
            "112/112 [==============================] - 3s 29ms/step - loss: 2.0584 - accuracy: 0.4418\n",
            "Epoch 20/100\n",
            "112/112 [==============================] - 3s 29ms/step - loss: 2.0048 - accuracy: 0.4557\n",
            "Epoch 21/100\n",
            "112/112 [==============================] - 3s 30ms/step - loss: 1.9687 - accuracy: 0.4617\n",
            "Epoch 22/100\n",
            "112/112 [==============================] - 3s 29ms/step - loss: 1.9333 - accuracy: 0.4696\n",
            "Epoch 23/100\n",
            "112/112 [==============================] - 3s 29ms/step - loss: 1.8949 - accuracy: 0.4836\n",
            "Epoch 24/100\n",
            "112/112 [==============================] - 3s 29ms/step - loss: 1.8557 - accuracy: 0.4876\n",
            "Epoch 25/100\n",
            "112/112 [==============================] - 3s 30ms/step - loss: 1.8420 - accuracy: 0.4946\n",
            "Epoch 26/100\n",
            "112/112 [==============================] - 3s 30ms/step - loss: 1.7969 - accuracy: 0.5068\n",
            "Epoch 27/100\n",
            "112/112 [==============================] - 3s 30ms/step - loss: 1.7629 - accuracy: 0.5191\n",
            "Epoch 28/100\n",
            "112/112 [==============================] - 3s 29ms/step - loss: 1.7411 - accuracy: 0.5200\n",
            "Epoch 29/100\n",
            "112/112 [==============================] - 3s 30ms/step - loss: 1.7130 - accuracy: 0.5301\n",
            "Epoch 30/100\n",
            "112/112 [==============================] - 3s 29ms/step - loss: 1.6777 - accuracy: 0.5309\n",
            "Epoch 31/100\n",
            "112/112 [==============================] - 3s 29ms/step - loss: 1.6593 - accuracy: 0.5459\n",
            "Epoch 32/100\n",
            "112/112 [==============================] - 3s 29ms/step - loss: 1.6283 - accuracy: 0.5513\n",
            "Epoch 33/100\n",
            "112/112 [==============================] - 3s 30ms/step - loss: 1.5992 - accuracy: 0.5534\n",
            "Epoch 34/100\n",
            "112/112 [==============================] - 3s 29ms/step - loss: 1.5903 - accuracy: 0.5659\n",
            "Epoch 35/100\n",
            "112/112 [==============================] - 3s 29ms/step - loss: 1.5485 - accuracy: 0.5706\n",
            "Epoch 36/100\n",
            "112/112 [==============================] - 3s 30ms/step - loss: 1.5354 - accuracy: 0.5769\n",
            "Epoch 37/100\n",
            "112/112 [==============================] - 3s 30ms/step - loss: 1.5190 - accuracy: 0.5777\n",
            "Epoch 38/100\n",
            "112/112 [==============================] - 3s 29ms/step - loss: 1.4949 - accuracy: 0.5868\n",
            "Epoch 39/100\n",
            "112/112 [==============================] - 3s 29ms/step - loss: 1.4634 - accuracy: 0.5945\n",
            "Epoch 40/100\n",
            "112/112 [==============================] - 3s 31ms/step - loss: 1.4514 - accuracy: 0.5974\n",
            "Epoch 41/100\n",
            "112/112 [==============================] - 3s 30ms/step - loss: 1.4373 - accuracy: 0.5994\n",
            "Epoch 42/100\n",
            "112/112 [==============================] - 3s 30ms/step - loss: 1.4118 - accuracy: 0.6040\n",
            "Epoch 43/100\n",
            "112/112 [==============================] - 3s 30ms/step - loss: 1.3869 - accuracy: 0.6145\n",
            "Epoch 44/100\n",
            "112/112 [==============================] - 3s 31ms/step - loss: 1.3711 - accuracy: 0.6223\n",
            "Epoch 45/100\n",
            "112/112 [==============================] - 3s 30ms/step - loss: 1.3546 - accuracy: 0.6255\n",
            "Epoch 46/100\n",
            "112/112 [==============================] - 3s 30ms/step - loss: 1.3262 - accuracy: 0.6305\n",
            "Epoch 47/100\n",
            "112/112 [==============================] - 3s 30ms/step - loss: 1.3209 - accuracy: 0.6353\n",
            "Epoch 48/100\n",
            "112/112 [==============================] - 3s 31ms/step - loss: 1.3090 - accuracy: 0.6372\n",
            "Epoch 49/100\n",
            "112/112 [==============================] - 3s 30ms/step - loss: 1.2834 - accuracy: 0.6432\n",
            "Epoch 50/100\n",
            "112/112 [==============================] - 3s 30ms/step - loss: 1.2803 - accuracy: 0.6435\n",
            "Epoch 51/100\n",
            "112/112 [==============================] - 3s 30ms/step - loss: 1.2540 - accuracy: 0.6453\n",
            "Epoch 52/100\n",
            "112/112 [==============================] - 3s 30ms/step - loss: 1.2573 - accuracy: 0.6456\n",
            "Epoch 53/100\n",
            "112/112 [==============================] - 3s 30ms/step - loss: 1.2281 - accuracy: 0.6652\n",
            "Epoch 54/100\n",
            "112/112 [==============================] - 3s 30ms/step - loss: 1.2146 - accuracy: 0.6622\n",
            "Epoch 55/100\n",
            "112/112 [==============================] - 3s 31ms/step - loss: 1.1976 - accuracy: 0.6629\n",
            "Epoch 56/100\n",
            "112/112 [==============================] - 3s 30ms/step - loss: 1.2043 - accuracy: 0.6641\n",
            "Epoch 57/100\n",
            "112/112 [==============================] - 3s 30ms/step - loss: 1.1657 - accuracy: 0.6706\n",
            "Epoch 58/100\n",
            "112/112 [==============================] - 3s 30ms/step - loss: 1.1658 - accuracy: 0.6722\n",
            "Epoch 59/100\n",
            "112/112 [==============================] - 3s 31ms/step - loss: 1.1469 - accuracy: 0.6779\n",
            "Epoch 60/100\n",
            "112/112 [==============================] - 3s 30ms/step - loss: 1.1444 - accuracy: 0.6755\n",
            "Epoch 61/100\n",
            "112/112 [==============================] - 3s 30ms/step - loss: 1.1218 - accuracy: 0.6920\n",
            "Epoch 62/100\n",
            "112/112 [==============================] - 3s 31ms/step - loss: 1.1137 - accuracy: 0.6882\n",
            "Epoch 63/100\n",
            "112/112 [==============================] - 3s 31ms/step - loss: 1.1054 - accuracy: 0.6893\n",
            "Epoch 64/100\n",
            "112/112 [==============================] - 3s 30ms/step - loss: 1.0937 - accuracy: 0.6878\n",
            "Epoch 65/100\n",
            "112/112 [==============================] - 3s 30ms/step - loss: 1.0843 - accuracy: 0.6942\n",
            "Epoch 66/100\n",
            "112/112 [==============================] - 3s 31ms/step - loss: 1.0797 - accuracy: 0.6948\n",
            "Epoch 67/100\n",
            "112/112 [==============================] - 3s 30ms/step - loss: 1.0643 - accuracy: 0.7044\n",
            "Epoch 68/100\n",
            "112/112 [==============================] - 3s 30ms/step - loss: 1.0531 - accuracy: 0.7048\n",
            "Epoch 69/100\n",
            "112/112 [==============================] - 3s 30ms/step - loss: 1.0442 - accuracy: 0.7016\n",
            "Epoch 70/100\n",
            "112/112 [==============================] - 3s 31ms/step - loss: 1.0331 - accuracy: 0.7088\n",
            "Epoch 71/100\n",
            "112/112 [==============================] - 3s 30ms/step - loss: 1.0149 - accuracy: 0.7163\n",
            "Epoch 72/100\n",
            "112/112 [==============================] - 3s 30ms/step - loss: 1.0201 - accuracy: 0.7159\n",
            "Epoch 73/100\n",
            "112/112 [==============================] - 3s 31ms/step - loss: 1.0006 - accuracy: 0.7129\n",
            "Epoch 74/100\n",
            "112/112 [==============================] - 3s 31ms/step - loss: 0.9975 - accuracy: 0.7184\n",
            "Epoch 75/100\n",
            "112/112 [==============================] - 3s 30ms/step - loss: 0.9753 - accuracy: 0.7244\n",
            "Epoch 76/100\n",
            "112/112 [==============================] - 3s 30ms/step - loss: 0.9772 - accuracy: 0.7187\n",
            "Epoch 77/100\n",
            "112/112 [==============================] - 3s 31ms/step - loss: 0.9721 - accuracy: 0.7297\n",
            "Epoch 78/100\n",
            "112/112 [==============================] - 3s 30ms/step - loss: 0.9621 - accuracy: 0.7293\n",
            "Epoch 79/100\n",
            "112/112 [==============================] - 3s 30ms/step - loss: 0.9560 - accuracy: 0.7338\n",
            "Epoch 80/100\n",
            "112/112 [==============================] - 3s 30ms/step - loss: 0.9432 - accuracy: 0.7303\n",
            "Epoch 81/100\n",
            "112/112 [==============================] - 4s 31ms/step - loss: 0.9435 - accuracy: 0.7382\n",
            "Epoch 82/100\n",
            "112/112 [==============================] - 3s 30ms/step - loss: 0.9309 - accuracy: 0.7406\n",
            "Epoch 83/100\n",
            "112/112 [==============================] - 3s 30ms/step - loss: 0.9181 - accuracy: 0.7370\n",
            "Epoch 84/100\n",
            "112/112 [==============================] - 3s 30ms/step - loss: 0.9211 - accuracy: 0.7435\n",
            "Epoch 85/100\n",
            "112/112 [==============================] - 3s 31ms/step - loss: 0.9032 - accuracy: 0.7477\n",
            "Epoch 86/100\n",
            "112/112 [==============================] - 3s 30ms/step - loss: 0.8983 - accuracy: 0.7481\n",
            "Epoch 87/100\n",
            "112/112 [==============================] - 3s 30ms/step - loss: 0.9032 - accuracy: 0.7472\n",
            "Epoch 88/100\n",
            "112/112 [==============================] - 3s 31ms/step - loss: 0.8928 - accuracy: 0.7473\n",
            "Epoch 89/100\n",
            "112/112 [==============================] - 3s 31ms/step - loss: 0.8752 - accuracy: 0.7536\n",
            "Epoch 90/100\n",
            "112/112 [==============================] - 3s 30ms/step - loss: 0.8794 - accuracy: 0.7556\n",
            "Epoch 91/100\n",
            "112/112 [==============================] - 3s 30ms/step - loss: 0.8770 - accuracy: 0.7497\n",
            "Epoch 92/100\n",
            "112/112 [==============================] - 4s 31ms/step - loss: 0.8675 - accuracy: 0.7596\n",
            "Epoch 93/100\n",
            "112/112 [==============================] - 3s 30ms/step - loss: 0.8617 - accuracy: 0.7558\n",
            "Epoch 94/100\n",
            "112/112 [==============================] - 3s 30ms/step - loss: 0.8514 - accuracy: 0.7561\n",
            "Epoch 95/100\n",
            "112/112 [==============================] - 3s 31ms/step - loss: 0.8364 - accuracy: 0.7660\n",
            "Epoch 96/100\n",
            "112/112 [==============================] - 3s 31ms/step - loss: 0.8313 - accuracy: 0.7670\n",
            "Epoch 97/100\n",
            "112/112 [==============================] - 3s 30ms/step - loss: 0.8339 - accuracy: 0.7642\n",
            "Epoch 98/100\n",
            "112/112 [==============================] - 3s 30ms/step - loss: 0.8254 - accuracy: 0.7692\n",
            "Epoch 99/100\n",
            "112/112 [==============================] - 3s 31ms/step - loss: 0.8171 - accuracy: 0.7695\n",
            "Epoch 100/100\n",
            "112/112 [==============================] - 3s 30ms/step - loss: 0.8049 - accuracy: 0.7741\n"
          ]
        }
      ],
      "source": [
        "CC_model.train(X_train, y_train)"
      ]
    },
    {
      "cell_type": "markdown",
      "metadata": {
        "id": "hR-xH8Gx3RDc"
      },
      "source": [
        "## Predict"
      ]
    },
    {
      "cell_type": "code",
      "execution_count": null,
      "metadata": {
        "id": "eL8RIY7H59ik",
        "colab": {
          "base_uri": "https://localhost:8080/"
        },
        "outputId": "26b37bd9-78fb-4fa2-bad5-85be5265e7a8"
      },
      "outputs": [
        {
          "output_type": "stream",
          "name": "stdout",
          "text": [
            "96/96 [==============================] - 1s 5ms/step\n",
            "0.7305311176278918\n"
          ]
        }
      ],
      "source": [
        "# Hàm tính độ đo accuracy phục vụ đánh giá mô hình\n",
        "accuracy = lambda y_true, y_pred: (y_true==y_pred).sum()/len(y_true)\n",
        "y_pred = CC_model.predict(X_valid)\n",
        "CC_model_acc = accuracy(y_valid.argmax(axis=1), y_pred.argmax(axis=1))\n",
        "print(CC_model_acc)"
      ]
    },
    {
      "cell_type": "code",
      "execution_count": null,
      "metadata": {
        "id": "S9Zks9ZbWOwm",
        "colab": {
          "base_uri": "https://localhost:8080/",
          "height": 704
        },
        "outputId": "622c8309-95c1-4367-a345-90584a4923a8"
      },
      "outputs": [
        {
          "output_type": "display_data",
          "data": {
            "text/plain": [
              "<Figure size 1000x1000 with 16 Axes>"
            ],
            "image/png": "[encoded data removed]"
          },
          "metadata": {}
        }
      ],
      "source": [
        "# Visualize data\n",
        "_, ax = plt.subplots(4, 4, figsize=(10, 10))\n",
        "for i in range(16):\n",
        "    img = X_valid[i+240]\n",
        "    label = y_pred.argmax(axis=1)[i+240]\n",
        "    ax[i // 4, i % 4].imshow(img[:, :, 0], cmap=\"gray\")\n",
        "    ax[i // 4, i % 4].set_title(num_to_char(label))\n",
        "    ax[i // 4, i % 4].axis(\"off\")\n",
        "plt.show()"
      ]
    },
    {
      "cell_type": "markdown",
      "metadata": {
        "id": "WeeXdhMJek49"
      },
      "source": [
        "## Use CC_Model to check character in catpcha"
      ]
    },
    {
      "cell_type": "code",
      "execution_count": null,
      "metadata": {
        "id": "EVBsnFWpOL54"
      },
      "outputs": [],
      "source": [
        "from keras import backend as K"
      ]
    },
    {
      "cell_type": "code",
      "execution_count": null,
      "metadata": {
        "id": "fUWBsz_tGb62"
      },
      "outputs": [],
      "source": [
        "def get_layers_output(model, input_model):\n",
        "  inp = model.input\n",
        "  outputs = [layer.output for layer in model.layers]\n",
        "  functors = [K.function([inp], [out]) for out in outputs]\n",
        "\n",
        "  return [func([np.array([input_model])]) for func in functors]"
      ]
    },
    {
      "cell_type": "code",
      "execution_count": null,
      "metadata": {
        "id": "ybYdOrd5GuT9"
      },
      "outputs": [],
      "source": [
        "def getWeights_n_to_1(layer_connectedTo, node_idx, model):\n",
        "  weights_bias = model.layers[layer_connectedTo].get_weights()\n",
        "  if len(weights_bias) == 0:\n",
        "    return\n",
        "\n",
        "  return [weights_bias[0][i][:][node_idx] for i in range(len(weights_bias[0]))]"
      ]
    },
    {
      "cell_type": "code",
      "execution_count": null,
      "metadata": {
        "id": "hXRAkaNhPTOi"
      },
      "outputs": [],
      "source": [
        "def get_subs_of_convOutput(conv_output):\n",
        "  return [conv_output[0,:,:,i] for i in range(conv_output.shape[3])]"
      ]
    },
    {
      "cell_type": "code",
      "execution_count": null,
      "metadata": {
        "id": "Ge6yOQwJPhQt"
      },
      "outputs": [],
      "source": [
        "def get_mappingMT_by_Subs_Weights(subs, weights):\n",
        "  mapping_mt = np.zeros(shape=(5,50), dtype='float32')\n",
        "\n",
        "  for i in range(len(subs)):\n",
        "    mapping_mt += subs[i] * weights[i]\n",
        "\n",
        "  # Loại bỏ các giá trị < 0 của ma trận kết hợp\n",
        "  mapping_mt[mapping_mt < 0] = 0\n",
        "\n",
        "  return mapping_mt"
      ]
    },
    {
      "cell_type": "code",
      "execution_count": null,
      "metadata": {
        "id": "uCGW12FhPqKH"
      },
      "outputs": [],
      "source": [
        "def get_mapping_bb(coff_mt_eachCell, thresh):\n",
        "  bool_arr = coff_mt_eachCell >= thresh\n",
        "\n",
        "  sum_row = [sum(bool_arr[i]) for i in range(len(bool_arr))]\n",
        "  row_greater0 = [i for i in range(len(sum_row)) if sum_row[i] > 0]\n",
        "  bottom_idx = max(row_greater0)\n",
        "  top_idx = min(row_greater0)\n",
        "\n",
        "  sum_column = [sum(bool_arr[:,i]) for i in range(bool_arr.shape[1])]\n",
        "  column_greater0 = [i for i in range(len(sum_column)) if sum_column[i] > 0]\n",
        "  right_idx = max(column_greater0)\n",
        "  left_idx = min(column_greater0)\n",
        "\n",
        "  return [top_idx, left_idx, bottom_idx, right_idx]"
      ]
    },
    {
      "cell_type": "markdown",
      "source": [
        "### Test with captcha i"
      ],
      "metadata": {
        "id": "qCecNe2Gq0bi"
      }
    },
    {
      "cell_type": "code",
      "source": [
        "num_captcha = 5"
      ],
      "metadata": {
        "id": "3ElVvssJ9s_C"
      },
      "execution_count": null,
      "outputs": []
    },
    {
      "cell_type": "code",
      "source": [
        "layers_output = get_layers_output(CC_model.model, captchas[num_captcha])\n",
        "\n",
        "# Shape output in each layer\n",
        "print(len(layers_output))\n",
        "for i in range(len(layers_output)):\n",
        "  print(layers_output[i][0].shape)"
      ],
      "metadata": {
        "id": "Ffh31qS3rMRr",
        "colab": {
          "base_uri": "https://localhost:8080/"
        },
        "outputId": "6eca021e-46ed-4fbc-abe1-36a5fdd0a4b1"
      },
      "execution_count": null,
      "outputs": [
        {
          "output_type": "stream",
          "name": "stdout",
          "text": [
            "7\n",
            "(1, 50, 200, 3)\n",
            "(1, 50, 200, 64)\n",
            "(1, 25, 100, 64)\n",
            "(1, 25, 100, 128)\n",
            "(1, 5, 50, 128)\n",
            "(1, 128)\n",
            "(1, 50)\n"
          ]
        }
      ]
    },
    {
      "cell_type": "code",
      "source": [
        "# Weights GAP to Output\n",
        "weights_GAP_to_Output = np.array([getWeights_n_to_1(-1, i, CC_model.model) for i in range(layers_output[-1][0].shape[1])])\n",
        "print(weights_GAP_to_Output.shape)"
      ],
      "metadata": {
        "id": "945QVMYQr-6z",
        "colab": {
          "base_uri": "https://localhost:8080/"
        },
        "outputId": "bbf53c99-02ef-44cc-a31d-2953a627cd81"
      },
      "execution_count": null,
      "outputs": [
        {
          "output_type": "stream",
          "name": "stdout",
          "text": [
            "(50, 128)\n"
          ]
        }
      ]
    },
    {
      "cell_type": "code",
      "source": [
        "# Pool2 output\n",
        "pool2_output = layers_output[-3][0][0]\n",
        "print(pool2_output.shape)\n",
        "\n",
        "subs_pool2 = get_subs_of_convOutput(layers_output[-3][0])"
      ],
      "metadata": {
        "id": "xf0Zpo4MuNiE",
        "colab": {
          "base_uri": "https://localhost:8080/"
        },
        "outputId": "a2f498c8-840f-41bd-a444-efca4d3c102e"
      },
      "execution_count": null,
      "outputs": [
        {
          "output_type": "stream",
          "name": "stdout",
          "text": [
            "(5, 50, 128)\n"
          ]
        }
      ]
    },
    {
      "cell_type": "code",
      "source": [
        "# Output output\n",
        "output_output = layers_output[-1][0][0]\n",
        "print(output_output.shape)"
      ],
      "metadata": {
        "id": "WTS6UOSvsjJ-",
        "colab": {
          "base_uri": "https://localhost:8080/"
        },
        "outputId": "e7abdcfc-b551-4fd8-8944-4b7c0c9d0799"
      },
      "execution_count": null,
      "outputs": [
        {
          "output_type": "stream",
          "name": "stdout",
          "text": [
            "(50,)\n"
          ]
        }
      ]
    },
    {
      "cell_type": "code",
      "source": [
        "# Subs_pool2 x weights_GAP_to_Output[i]\n",
        "\n",
        "mapping_mt = np.array([get_mappingMT_by_Subs_Weights(subs_pool2, weights_GAP_to_Output[i]) for i in range(weights_GAP_to_Output.shape[0])])\n",
        "print(mapping_mt.shape)\n",
        "\n",
        "lightest = [mapping_mt[i] // np.max(mapping_mt[i]) for i in range(mapping_mt.shape[0])]\n",
        "lightest_idx = [np.where(lightest[i] == 1) for i in range(len(lightest))]\n",
        "print(len(lightest_idx))\n",
        "print(lightest_idx[0])\n",
        "\n",
        "lightest_oy = [lightest_idx[i][0][0] for i in range(len(lightest_idx))]\n",
        "print(lightest_oy)"
      ],
      "metadata": {
        "id": "iHEIMA-Nvg09",
        "colab": {
          "base_uri": "https://localhost:8080/"
        },
        "outputId": "d169f0e3-daee-4225-f158-7a1145f6a55b"
      },
      "execution_count": null,
      "outputs": [
        {
          "output_type": "stream",
          "name": "stdout",
          "text": [
            "(50, 5, 50)\n",
            "50\n",
            "(array([4]), array([11]))\n",
            "[4, 4, 4, 1, 0, 0, 0, 4, 0, 3, 0, 4, 4, 2, 4, 0, 3, 4, 0, 0, 0, 3, 1, 3, 4, 2, 4, 4, 4, 2, 3, 3, 3, 0, 0, 0, 0, 0, 0, 4, 0, 2, 2, 4, 3, 3, 4, 2, 0, 4]\n"
          ]
        }
      ]
    },
    {
      "cell_type": "code",
      "source": [
        "char_cf_order = np.argsort(-output_output)\n",
        "\n",
        "dict_ = {}\n",
        "\n",
        "for id in char_cf_order:\n",
        "  if lightest_oy[id] not in dict_.keys():\n",
        "    dict_[lightest_oy[id]] = id"
      ],
      "metadata": {
        "id": "zfktdhgr1Trr"
      },
      "execution_count": null,
      "outputs": []
    },
    {
      "cell_type": "code",
      "execution_count": null,
      "metadata": {
        "id": "HApzFbIwN079",
        "colab": {
          "base_uri": "https://localhost:8080/"
        },
        "outputId": "38503b57-1b19-44a3-f6ab-aad2e133d5ee"
      },
      "outputs": [
        {
          "output_type": "stream",
          "name": "stdout",
          "text": [
            "[15, 3, 25, 32, 2]\n",
            "Number:  [ 3  2  8 23  6]\n"
          ]
        }
      ],
      "source": [
        "label_pred = []\n",
        "for i in range(5):\n",
        "  if i in dict_.keys():\n",
        "    label_pred.append(dict_[i])\n",
        "  else:\n",
        "    label_pred.append(-1)\n",
        "\n",
        "print(label_pred)\n",
        "print(\"Number: \", num_labels[num_captcha])"
      ]
    },
    {
      "cell_type": "code",
      "source": [
        "cv2_imshow(captchas[num_captcha])"
      ],
      "metadata": {
        "id": "JcBfCT6k3QSC",
        "colab": {
          "base_uri": "https://localhost:8080/",
          "height": 67
        },
        "outputId": "0504a958-3b98-40cc-e7ae-aebcd51742cd"
      },
      "execution_count": null,
      "outputs": [
        {
          "output_type": "display_data",
          "data": {
            "text/plain": [
              "<PIL.Image.Image image mode=RGB size=200x50 at 0x7F90ED51D7E0>"
            ],
            "image/png": "[encoded data removed]"
          },
          "metadata": {}
        }
      ]
    },
    {
      "cell_type": "markdown",
      "source": [
        "#2.Part Classification Model"
      ],
      "metadata": {
        "id": "GhE9IaieKaIO"
      }
    },
    {
      "cell_type": "code",
      "source": [
        "import tensorflow as tf\n",
        "from tensorflow.keras import layers\n",
        "from keras.layers import Input, Dense, Conv2D, MaxPooling2D, Flatten, AveragePooling1D\n",
        "from keras.models import load_model, Model\n",
        "from tensorflow.keras.models import Sequential\n",
        "import keras"
      ],
      "metadata": {
        "id": "5aL-mHAXOOYv"
      },
      "execution_count": null,
      "outputs": []
    },
    {
      "cell_type": "markdown",
      "source": [
        "## Create"
      ],
      "metadata": {
        "id": "mLD03XEbKglL"
      }
    },
    {
      "cell_type": "code",
      "source": [
        "class PartClassificationModel:\n",
        "    # constructor\n",
        "    def __init__(self):\n",
        "        self.model = None\n",
        "\n",
        "    # Định nghĩa kiến trúc của mô hình\n",
        "    def build(self, input_dim):\n",
        "        input = Input(shape = input_dim) # input\n",
        "\n",
        "        # First conv block\n",
        "        x = layers.Conv2D(32,(3, 3),activation=\"relu\",kernel_initializer=\"he_normal\",padding=\"same\",name=\"Conv1\")(input)\n",
        "        x = layers.MaxPooling2D((2, 2), name=\"pool1\")(x)\n",
        "\n",
        "        # Second conv block\n",
        "        x = layers.Conv2D(64,(3, 3),activation=\"relu\",kernel_initializer=\"he_normal\",padding=\"same\",name=\"Conv2\")(x)\n",
        "        x = layers.MaxPooling2D((2, 2), name=\"pool2\")(x)\n",
        "\n",
        "        # We have used two max pool with pool size and strides 2.\n",
        "        # Hence, downsampled feature maps are 4x smaller. The number of\n",
        "        # filters in the last layer is 64 --> output volume shape = (50,12,64)\n",
        "        # Reshape to \"split\" the volume in 5 time-steps\n",
        "        x = layers.Reshape(target_shape=(5, 7680), name=\"reshape\")(x)\n",
        "\n",
        "        # FC layers\n",
        "        x = layers.Dense(256, activation=\"relu\", name=\"dense1\")(x)\n",
        "        x = layers.Dense(256, activation=\"relu\", name=\"dense2\")(x)\n",
        "\n",
        "        # Output layer\n",
        "        output = layers.Dense(50, activation=\"softmax\", name=\"dense3\")(x)\n",
        "\n",
        "        self.model = Model(input, output)\n",
        "\n",
        "    # Huấn luyện mô hình\n",
        "    def train(self, x_train, y_train): # x_train chinh la X, y_train chinh la ground-truth\n",
        "        opt = tf.keras.optimizers.SGD(learning_rate=0.001) # Stochastic Gradient Descent\n",
        "        self.model.compile(optimizer=keras.optimizers.Adam(), loss='categorical_crossentropy', metrics=['accuracy']) # CCE loss\n",
        "        self.model.fit(x_train, y_train, epochs = 30, batch_size = 64)\n",
        "\n",
        "    # Load mô hình từ file\n",
        "    def load(self, model_file):\n",
        "        self.model = load_model(model_file)\n",
        "\n",
        "    # Lưu mô hình hiện tại xuống file\n",
        "    def save(self, model_file):\n",
        "        self.model.save(model_file)\n",
        "\n",
        "    # Tóm tắt kiến trúc mạng\n",
        "    def summary(self):\n",
        "        self.model.summary()\n",
        "\n",
        "    # Thử nghiệm mô hình với dữ liệu ảnh đầu vào\n",
        "    def predict(self, x_test):\n",
        "        return self.model.predict(x_test)"
      ],
      "metadata": {
        "id": "YeCD5y6_Ka18"
      },
      "execution_count": null,
      "outputs": []
    },
    {
      "cell_type": "code",
      "source": [
        "PC_Model = PartClassificationModel()\n",
        "PC_Model.build(X_train[0].shape)\n",
        "PC_Model.summary()"
      ],
      "metadata": {
        "id": "KkHTgdXeKn3e",
        "colab": {
          "base_uri": "https://localhost:8080/"
        },
        "outputId": "0d1d71df-ca84-443e-d3e1-adb6d977e5af"
      },
      "execution_count": null,
      "outputs": [
        {
          "output_type": "stream",
          "name": "stdout",
          "text": [
            "Model: \"model_16\"\n",
            "_________________________________________________________________\n",
            " Layer (type)                Output Shape              Param #   \n",
            "=================================================================\n",
            " input_3 (InputLayer)        [(None, 50, 200, 3)]      0         \n",
            "                                                                 \n",
            " Conv1 (Conv2D)              (None, 50, 200, 32)       896       \n",
            "                                                                 \n",
            " pool1 (MaxPooling2D)        (None, 25, 100, 32)       0         \n",
            "                                                                 \n",
            " Conv2 (Conv2D)              (None, 25, 100, 64)       18496     \n",
            "                                                                 \n",
            " pool2 (MaxPooling2D)        (None, 12, 50, 64)        0         \n",
            "                                                                 \n",
            " reshape (Reshape)           (None, 5, 7680)           0         \n",
            "                                                                 \n",
            " dense1 (Dense)              (None, 5, 256)            1966336   \n",
            "                                                                 \n",
            " dense2 (Dense)              (None, 5, 256)            65792     \n",
            "                                                                 \n",
            " dense3 (Dense)              (None, 5, 50)             12850     \n",
            "                                                                 \n",
            "=================================================================\n",
            "Total params: 2,064,370\n",
            "Trainable params: 2,064,370\n",
            "Non-trainable params: 0\n",
            "_________________________________________________________________\n"
          ]
        }
      ]
    },
    {
      "cell_type": "markdown",
      "source": [
        "## Train"
      ],
      "metadata": {
        "id": "jH8oJmprKoLV"
      }
    },
    {
      "cell_type": "code",
      "source": [
        "PC_Model.train(X_train, y_train)"
      ],
      "metadata": {
        "id": "bae4o2TKKu49",
        "colab": {
          "base_uri": "https://localhost:8080/"
        },
        "outputId": "e16da587-fd15-4bd9-c2de-acca2e370e7c"
      },
      "execution_count": null,
      "outputs": [
        {
          "output_type": "stream",
          "name": "stdout",
          "text": [
            "Epoch 1/30\n",
            "15/15 [==============================] - 2s 40ms/step - loss: 198.6675 - accuracy: 0.0314\n",
            "Epoch 2/30\n",
            "15/15 [==============================] - 0s 18ms/step - loss: 14.5791 - accuracy: 0.0393\n",
            "Epoch 3/30\n",
            "15/15 [==============================] - 0s 17ms/step - loss: 5.6092 - accuracy: 0.0504\n",
            "Epoch 4/30\n",
            "15/15 [==============================] - 0s 17ms/step - loss: 4.2266 - accuracy: 0.0649\n",
            "Epoch 5/30\n",
            "15/15 [==============================] - 0s 17ms/step - loss: 3.8857 - accuracy: 0.0822\n",
            "Epoch 6/30\n",
            "15/15 [==============================] - 0s 17ms/step - loss: 3.6845 - accuracy: 0.1031\n",
            "Epoch 7/30\n",
            "15/15 [==============================] - 0s 17ms/step - loss: 3.4857 - accuracy: 0.1313\n",
            "Epoch 8/30\n",
            "15/15 [==============================] - 0s 17ms/step - loss: 3.2178 - accuracy: 0.1844\n",
            "Epoch 9/30\n",
            "15/15 [==============================] - 0s 17ms/step - loss: 2.8724 - accuracy: 0.2604\n",
            "Epoch 10/30\n",
            "15/15 [==============================] - 0s 17ms/step - loss: 2.4392 - accuracy: 0.3714\n",
            "Epoch 11/30\n",
            "15/15 [==============================] - 0s 17ms/step - loss: 1.9378 - accuracy: 0.5093\n",
            "Epoch 12/30\n",
            "15/15 [==============================] - 0s 17ms/step - loss: 1.3991 - accuracy: 0.6570\n",
            "Epoch 13/30\n",
            "15/15 [==============================] - 0s 17ms/step - loss: 0.9103 - accuracy: 0.8028\n",
            "Epoch 14/30\n",
            "15/15 [==============================] - 0s 17ms/step - loss: 0.5211 - accuracy: 0.9044\n",
            "Epoch 15/30\n",
            "15/15 [==============================] - 0s 16ms/step - loss: 0.2703 - accuracy: 0.9701\n",
            "Epoch 16/30\n",
            "15/15 [==============================] - 0s 19ms/step - loss: 0.1305 - accuracy: 0.9906\n",
            "Epoch 17/30\n",
            "15/15 [==============================] - 0s 19ms/step - loss: 0.0668 - accuracy: 0.9979\n",
            "Epoch 18/30\n",
            "15/15 [==============================] - 0s 19ms/step - loss: 0.0384 - accuracy: 0.9989\n",
            "Epoch 19/30\n",
            "15/15 [==============================] - 0s 19ms/step - loss: 0.0262 - accuracy: 0.9989\n",
            "Epoch 20/30\n",
            "15/15 [==============================] - 0s 19ms/step - loss: 0.0202 - accuracy: 0.9989\n",
            "Epoch 21/30\n",
            "15/15 [==============================] - 0s 20ms/step - loss: 0.0167 - accuracy: 0.9991\n",
            "Epoch 22/30\n",
            "15/15 [==============================] - 0s 19ms/step - loss: 0.0144 - accuracy: 0.9991\n",
            "Epoch 23/30\n",
            "15/15 [==============================] - 0s 20ms/step - loss: 0.0128 - accuracy: 0.9991\n",
            "Epoch 24/30\n",
            "15/15 [==============================] - 0s 19ms/step - loss: 0.0116 - accuracy: 0.9991\n",
            "Epoch 25/30\n",
            "15/15 [==============================] - 0s 16ms/step - loss: 0.0106 - accuracy: 0.9991\n",
            "Epoch 26/30\n",
            "15/15 [==============================] - 0s 16ms/step - loss: 0.0099 - accuracy: 0.9991\n",
            "Epoch 27/30\n",
            "15/15 [==============================] - 0s 17ms/step - loss: 0.0092 - accuracy: 0.9991\n",
            "Epoch 28/30\n",
            "15/15 [==============================] - 0s 17ms/step - loss: 0.0087 - accuracy: 0.9991\n",
            "Epoch 29/30\n",
            "15/15 [==============================] - 0s 16ms/step - loss: 0.0083 - accuracy: 0.9991\n",
            "Epoch 30/30\n",
            "15/15 [==============================] - 0s 17ms/step - loss: 0.0079 - accuracy: 0.9991\n"
          ]
        }
      ]
    },
    {
      "cell_type": "markdown",
      "source": [
        "## Predict"
      ],
      "metadata": {
        "id": "ireRvKQTK1UX"
      }
    },
    {
      "cell_type": "code",
      "source": [
        "y_pred_PC_Model = PC_Model.predict(X_valid)\n",
        "y_pred_PC_Model.shape"
      ],
      "metadata": {
        "id": "2W3RsOgSK00-",
        "colab": {
          "base_uri": "https://localhost:8080/"
        },
        "outputId": "87937dd7-f221-49de-f5b0-55557760948d"
      },
      "execution_count": null,
      "outputs": [
        {
          "output_type": "stream",
          "name": "stdout",
          "text": [
            "13/13 [==============================] - 0s 11ms/step\n"
          ]
        },
        {
          "output_type": "execute_result",
          "data": {
            "text/plain": [
              "(402, 5, 50)"
            ]
          },
          "metadata": {},
          "execution_count": 87
        }
      ]
    },
    {
      "cell_type": "code",
      "source": [
        "# Visualize data\n",
        "_, ax = plt.subplots(4, 4, figsize=(10, 10))\n",
        "for i in range(16):\n",
        "    img = X_valid[i]\n",
        "    label = [np.argmax(y_pred_PC_Model[i][j]) for j in range(5)]\n",
        "    ax[i // 4, i % 4].imshow(img[:, :, 0], cmap=\"gray\")\n",
        "    ax[i // 4, i % 4].set_title([num_to_char(c) for c in label])\n",
        "    ax[i // 4, i % 4].axis(\"off\")\n",
        "plt.show()"
      ],
      "metadata": {
        "id": "p7rTGRGHZbM0",
        "colab": {
          "base_uri": "https://localhost:8080/",
          "height": 704
        },
        "outputId": "fc357511-bcba-49f3-e0f2-e37fde4dd8e5"
      },
      "execution_count": null,
      "outputs": [
        {
          "output_type": "display_data",
          "data": {
            "text/plain": [
              "<Figure size 1000x1000 with 16 Axes>"
            ],
            "image/png": "[encoded data removed]"
          },
          "metadata": {}
        }
      ]
    },
    {
      "cell_type": "code",
      "source": [
        "labels_pred = []\n",
        "\n",
        "for i in range(y_pred_PC_Model.shape[0]):\n",
        "  label = []\n",
        "  for j in range(y_pred_PC_Model.shape[1]):\n",
        "    label.append(np.argmax(y_pred_PC_Model[i][j]))\n",
        "  labels_pred.append(label)\n",
        "\n",
        "labels_pred = np.array(labels_pred)\n",
        "labels_pred.shape"
      ],
      "metadata": {
        "id": "XcPk0EX9WZtO",
        "colab": {
          "base_uri": "https://localhost:8080/"
        },
        "outputId": "62c7b250-ab93-4cd9-8630-7765f65bf575"
      },
      "execution_count": null,
      "outputs": [
        {
          "output_type": "execute_result",
          "data": {
            "text/plain": [
              "(402, 5)"
            ]
          },
          "metadata": {},
          "execution_count": 89
        }
      ]
    },
    {
      "cell_type": "markdown",
      "source": [
        "## Metric"
      ],
      "metadata": {
        "id": "5bltDl-7XyQ5"
      }
    },
    {
      "cell_type": "code",
      "source": [
        "num_true_label = 0\n",
        "\n",
        "for i in range(len(labels_pred)):\n",
        "  if False not in (labels_pred[i] == num_labels[i]):\n",
        "    num_true_label += 1\n",
        "\n",
        "print(\"Ti le captcha dung: \", num_true_label/len(labels_pred))"
      ],
      "metadata": {
        "id": "OWksojxUXzcc",
        "colab": {
          "base_uri": "https://localhost:8080/"
        },
        "outputId": "65c8ef6a-83ae-428b-babd-ac04c14ccbfc"
      },
      "execution_count": null,
      "outputs": [
        {
          "output_type": "stream",
          "name": "stdout",
          "text": [
            "Ti le captcha dung:  0.0\n"
          ]
        }
      ]
    },
    {
      "cell_type": "code",
      "source": [
        "num_true_char = 0\n",
        "\n",
        "for i in range(len(labels_pred)):\n",
        "  for j in range(5):\n",
        "    if labels_pred[i][j] == num_labels[i][j]:\n",
        "      num_true_char += 1\n",
        "\n",
        "print(\"Ti le ky tu dung: \", num_true_char/(len(labels_pred)*5))"
      ],
      "metadata": {
        "id": "8PoHlVqZcHVG",
        "colab": {
          "base_uri": "https://localhost:8080/"
        },
        "outputId": "6051bfa2-8967-48c1-d369-a2644807b52d"
      },
      "execution_count": null,
      "outputs": [
        {
          "output_type": "stream",
          "name": "stdout",
          "text": [
            "Ti le ky tu dung:  0.04328358208955224\n"
          ]
        }
      ]
    }
  ],
  "metadata": {
    "accelerator": "GPU",
    "colab": {
      "collapsed_sections": [
        "qdDISii66QsQ",
        "J0C2IZ602XSy"
      ],
      "provenance": [],
      "toc_visible": true,
      "gpuType": "T4"
    },
    "kernelspec": {
      "display_name": "Python 3",
      "name": "python3"
    },
    "language_info": {
      "name": "python"
    }
  },
  "nbformat": 4,
  "nbformat_minor": 0
}